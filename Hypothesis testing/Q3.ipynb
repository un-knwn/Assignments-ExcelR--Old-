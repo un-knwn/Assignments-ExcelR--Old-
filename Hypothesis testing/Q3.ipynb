{
 "cells": [
  {
   "cell_type": "code",
   "execution_count": 1,
   "id": "f6f1df6f",
   "metadata": {},
   "outputs": [],
   "source": [
    "# Q3"
   ]
  },
  {
   "cell_type": "code",
   "execution_count": 2,
   "id": "4a99d5b6",
   "metadata": {},
   "outputs": [],
   "source": [
    "# Applying Chi-Square test as there are categorical variables to test\n",
    "# Default Significane 5% i.e alpha = 0.05\n",
    "\n",
    "# Hypothesis testing statements\n",
    "# H0 = Male-Female proportions are similar\n",
    "# H1 = Male-Female proportions are not similar"
   ]
  },
  {
   "cell_type": "code",
   "execution_count": 3,
   "id": "d7b17083",
   "metadata": {},
   "outputs": [],
   "source": [
    "import pandas as pd\n",
    "import scipy as sc"
   ]
  },
  {
   "cell_type": "code",
   "execution_count": 4,
   "id": "88ccd06e",
   "metadata": {},
   "outputs": [
    {
     "data": {
      "text/html": [
       "<div>\n",
       "<style scoped>\n",
       "    .dataframe tbody tr th:only-of-type {\n",
       "        vertical-align: middle;\n",
       "    }\n",
       "\n",
       "    .dataframe tbody tr th {\n",
       "        vertical-align: top;\n",
       "    }\n",
       "\n",
       "    .dataframe thead th {\n",
       "        text-align: right;\n",
       "    }\n",
       "</style>\n",
       "<table border=\"1\" class=\"dataframe\">\n",
       "  <thead>\n",
       "    <tr style=\"text-align: right;\">\n",
       "      <th></th>\n",
       "      <th>Observed Values</th>\n",
       "      <th>East</th>\n",
       "      <th>West</th>\n",
       "      <th>North</th>\n",
       "      <th>South</th>\n",
       "    </tr>\n",
       "  </thead>\n",
       "  <tbody>\n",
       "    <tr>\n",
       "      <th>0</th>\n",
       "      <td>Males</td>\n",
       "      <td>50</td>\n",
       "      <td>142</td>\n",
       "      <td>131</td>\n",
       "      <td>70</td>\n",
       "    </tr>\n",
       "    <tr>\n",
       "      <th>1</th>\n",
       "      <td>Females</td>\n",
       "      <td>435</td>\n",
       "      <td>1523</td>\n",
       "      <td>1356</td>\n",
       "      <td>750</td>\n",
       "    </tr>\n",
       "  </tbody>\n",
       "</table>\n",
       "</div>"
      ],
      "text/plain": [
       "  Observed Values  East  West  North  South\n",
       "0           Males    50   142    131     70\n",
       "1         Females   435  1523   1356    750"
      ]
     },
     "execution_count": 4,
     "metadata": {},
     "output_type": "execute_result"
    }
   ],
   "source": [
    "BuyerRatio = pd.read_csv('BuyerRatio.csv')\n",
    "BuyerRatio.head()"
   ]
  },
  {
   "cell_type": "code",
   "execution_count": null,
   "id": "ee860bf1",
   "metadata": {},
   "outputs": [],
   "source": []
  },
  {
   "cell_type": "code",
   "execution_count": 5,
   "id": "d79a56d1",
   "metadata": {},
   "outputs": [
    {
     "name": "stdout",
     "output_type": "stream",
     "text": [
      "1.5959455386610577 0.6603094907091882 3 [[  42.76531299  442.23468701]\n",
      " [ 146.81287862 1518.18712138]\n",
      " [ 131.11756787 1355.88243213]\n",
      " [  72.30424052  747.69575948]]\n"
     ]
    }
   ],
   "source": [
    "#chi-square test\n",
    "statistic,pvalue,dof,expected_freq = sc.stats.chi2_contingency([BuyerRatio[\"East\"], BuyerRatio[\"West\"], BuyerRatio[\"North\"], BuyerRatio[\"South\"]])\n",
    "print(statistic,pvalue,dof,expected_freq)"
   ]
  },
  {
   "cell_type": "code",
   "execution_count": 6,
   "id": "1ebd4424",
   "metadata": {},
   "outputs": [],
   "source": [
    "alpha = 0.05\n",
    "H0 = \"Male-Female proportions are similar\"\n",
    "H1 = \"Male-Female proportions are not similar\""
   ]
  },
  {
   "cell_type": "code",
   "execution_count": 7,
   "id": "0a3d8249",
   "metadata": {},
   "outputs": [
    {
     "name": "stdout",
     "output_type": "stream",
     "text": [
      "we accept null hypothesis & Male-Female proportions are similar\n"
     ]
    }
   ],
   "source": [
    "if pvalue <= alpha:\n",
    "    print( 'we reject null hypothesis & ',H1)\n",
    "else:\n",
    "    print('we accept null hypothesis &',H0)"
   ]
  },
  {
   "cell_type": "code",
   "execution_count": null,
   "id": "9b8736a7",
   "metadata": {},
   "outputs": [],
   "source": []
  }
 ],
 "metadata": {
  "kernelspec": {
   "display_name": "Python 3 (ipykernel)",
   "language": "python",
   "name": "python3"
  },
  "language_info": {
   "codemirror_mode": {
    "name": "ipython",
    "version": 3
   },
   "file_extension": ".py",
   "mimetype": "text/x-python",
   "name": "python",
   "nbconvert_exporter": "python",
   "pygments_lexer": "ipython3",
   "version": "3.11.5"
  }
 },
 "nbformat": 4,
 "nbformat_minor": 5
}
