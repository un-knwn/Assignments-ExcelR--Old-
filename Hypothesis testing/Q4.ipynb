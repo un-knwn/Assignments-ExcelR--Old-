{
 "cells": [
  {
   "cell_type": "code",
   "execution_count": 1,
   "id": "d9f46333",
   "metadata": {},
   "outputs": [],
   "source": [
    "#Q4"
   ]
  },
  {
   "cell_type": "code",
   "execution_count": 2,
   "id": "f80a20ac",
   "metadata": {},
   "outputs": [],
   "source": [
    "# Applying Chi-Square test as there are categorical variables to test\n",
    "# Given Significane 5% i.e alpha = 0.05\n",
    "\n",
    "# Hypothesis testing statements\n",
    "# H0 = The defective % doesn't varies by centre\n",
    "# H1 = The defective % varies by centre"
   ]
  },
  {
   "cell_type": "code",
   "execution_count": 3,
   "id": "5158b80f",
   "metadata": {},
   "outputs": [],
   "source": [
    "import pandas as pd\n",
    "import scipy as sc"
   ]
  },
  {
   "cell_type": "code",
   "execution_count": 4,
   "id": "e88bfe00",
   "metadata": {},
   "outputs": [
    {
     "data": {
      "text/html": [
       "<div>\n",
       "<style scoped>\n",
       "    .dataframe tbody tr th:only-of-type {\n",
       "        vertical-align: middle;\n",
       "    }\n",
       "\n",
       "    .dataframe tbody tr th {\n",
       "        vertical-align: top;\n",
       "    }\n",
       "\n",
       "    .dataframe thead th {\n",
       "        text-align: right;\n",
       "    }\n",
       "</style>\n",
       "<table border=\"1\" class=\"dataframe\">\n",
       "  <thead>\n",
       "    <tr style=\"text-align: right;\">\n",
       "      <th></th>\n",
       "      <th>Phillippines</th>\n",
       "      <th>Indonesia</th>\n",
       "      <th>Malta</th>\n",
       "      <th>India</th>\n",
       "    </tr>\n",
       "  </thead>\n",
       "  <tbody>\n",
       "    <tr>\n",
       "      <th>0</th>\n",
       "      <td>Error Free</td>\n",
       "      <td>Error Free</td>\n",
       "      <td>Defective</td>\n",
       "      <td>Error Free</td>\n",
       "    </tr>\n",
       "    <tr>\n",
       "      <th>1</th>\n",
       "      <td>Error Free</td>\n",
       "      <td>Error Free</td>\n",
       "      <td>Error Free</td>\n",
       "      <td>Defective</td>\n",
       "    </tr>\n",
       "    <tr>\n",
       "      <th>2</th>\n",
       "      <td>Error Free</td>\n",
       "      <td>Defective</td>\n",
       "      <td>Defective</td>\n",
       "      <td>Error Free</td>\n",
       "    </tr>\n",
       "    <tr>\n",
       "      <th>3</th>\n",
       "      <td>Error Free</td>\n",
       "      <td>Error Free</td>\n",
       "      <td>Error Free</td>\n",
       "      <td>Error Free</td>\n",
       "    </tr>\n",
       "    <tr>\n",
       "      <th>4</th>\n",
       "      <td>Error Free</td>\n",
       "      <td>Error Free</td>\n",
       "      <td>Defective</td>\n",
       "      <td>Error Free</td>\n",
       "    </tr>\n",
       "  </tbody>\n",
       "</table>\n",
       "</div>"
      ],
      "text/plain": [
       "  Phillippines   Indonesia       Malta       India\n",
       "0   Error Free  Error Free   Defective  Error Free\n",
       "1   Error Free  Error Free  Error Free   Defective\n",
       "2   Error Free   Defective   Defective  Error Free\n",
       "3   Error Free  Error Free  Error Free  Error Free\n",
       "4   Error Free  Error Free   Defective  Error Free"
      ]
     },
     "execution_count": 4,
     "metadata": {},
     "output_type": "execute_result"
    }
   ],
   "source": [
    "COF=pd.read_csv('Costomer+OrderForm.csv')\n",
    "COF.head()"
   ]
  },
  {
   "cell_type": "code",
   "execution_count": 5,
   "id": "50b82e62",
   "metadata": {},
   "outputs": [
    {
     "data": {
      "text/plain": [
       "Phillippines    0\n",
       "Indonesia       0\n",
       "Malta           0\n",
       "India           0\n",
       "dtype: int64"
      ]
     },
     "execution_count": 5,
     "metadata": {},
     "output_type": "execute_result"
    }
   ],
   "source": [
    "#checking null values\n",
    "COF.isnull().sum()"
   ]
  },
  {
   "cell_type": "code",
   "execution_count": 6,
   "id": "a10c7c86",
   "metadata": {},
   "outputs": [],
   "source": [
    "alpha=0.05\n",
    "H0 = \"The defective % doesn't varies by centre\"\n",
    "H1 = \"The defective % varies by centre\""
   ]
  },
  {
   "cell_type": "code",
   "execution_count": 7,
   "id": "e3480a2d",
   "metadata": {},
   "outputs": [
    {
     "name": "stdout",
     "output_type": "stream",
     "text": [
      "3.8589606858203545 0.2771020991233144 3 [[271.75  28.25]\n",
      " [271.75  28.25]\n",
      " [271.75  28.25]\n",
      " [271.75  28.25]]\n"
     ]
    }
   ],
   "source": [
    "#chi square test\n",
    "statistic,pvalue,dof,expected_freq = sc.stats.chi2_contingency([COF['Phillippines'].value_counts(), COF['Indonesia'].value_counts(), COF['Malta'].value_counts(), COF['India'].value_counts()])\n",
    "print(statistic,pvalue,dof,expected_freq)"
   ]
  },
  {
   "cell_type": "code",
   "execution_count": 8,
   "id": "19b0e788",
   "metadata": {},
   "outputs": [
    {
     "name": "stdout",
     "output_type": "stream",
     "text": [
      "we accept null hypothesis & The defective % doesn't varies by centre\n"
     ]
    }
   ],
   "source": [
    "if pvalue <= alpha:\n",
    "    print( 'we reject null hypothesis & ',H1)\n",
    "else:\n",
    "    print('we accept null hypothesis &',H0)"
   ]
  },
  {
   "cell_type": "code",
   "execution_count": null,
   "id": "4e31750f",
   "metadata": {},
   "outputs": [],
   "source": []
  }
 ],
 "metadata": {
  "kernelspec": {
   "display_name": "Python 3 (ipykernel)",
   "language": "python",
   "name": "python3"
  },
  "language_info": {
   "codemirror_mode": {
    "name": "ipython",
    "version": 3
   },
   "file_extension": ".py",
   "mimetype": "text/x-python",
   "name": "python",
   "nbconvert_exporter": "python",
   "pygments_lexer": "ipython3",
   "version": "3.11.5"
  }
 },
 "nbformat": 4,
 "nbformat_minor": 5
}
