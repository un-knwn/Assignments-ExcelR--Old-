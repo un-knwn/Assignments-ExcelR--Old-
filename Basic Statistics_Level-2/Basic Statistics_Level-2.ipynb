{
 "cells": [
  {
   "cell_type": "code",
   "execution_count": 1,
   "id": "9b6f7af9",
   "metadata": {},
   "outputs": [],
   "source": [
    "import pandas as pd\n",
    "import matplotlib.pyplot as plt   \n",
    "import numpy as np\n",
    "import scipy as sc"
   ]
  },
  {
   "cell_type": "code",
   "execution_count": 2,
   "id": "9aea3793",
   "metadata": {},
   "outputs": [],
   "source": [
    "Q1=pd.DataFrame([24.23,25.53,25.41,24.14,29.62,28.25,25.81,24.39,40.26,32.95,91.36,25.99,39.42,26.71,35.00])\n",
    "Q1c=pd.DataFrame(Q1/100)\n",
    "#print(Q1c)"
   ]
  },
  {
   "cell_type": "code",
   "execution_count": 3,
   "id": "1243dc3a",
   "metadata": {},
   "outputs": [
    {
     "data": {
      "text/html": [
       "<div>\n",
       "<style scoped>\n",
       "    .dataframe tbody tr th:only-of-type {\n",
       "        vertical-align: middle;\n",
       "    }\n",
       "\n",
       "    .dataframe tbody tr th {\n",
       "        vertical-align: top;\n",
       "    }\n",
       "\n",
       "    .dataframe thead th {\n",
       "        text-align: right;\n",
       "    }\n",
       "</style>\n",
       "<table border=\"1\" class=\"dataframe\">\n",
       "  <thead>\n",
       "    <tr style=\"text-align: right;\">\n",
       "      <th></th>\n",
       "      <th>0</th>\n",
       "    </tr>\n",
       "  </thead>\n",
       "  <tbody>\n",
       "    <tr>\n",
       "      <th>count</th>\n",
       "      <td>15.000000</td>\n",
       "    </tr>\n",
       "    <tr>\n",
       "      <th>mean</th>\n",
       "      <td>0.332713</td>\n",
       "    </tr>\n",
       "    <tr>\n",
       "      <th>std</th>\n",
       "      <td>0.169454</td>\n",
       "    </tr>\n",
       "    <tr>\n",
       "      <th>min</th>\n",
       "      <td>0.241400</td>\n",
       "    </tr>\n",
       "    <tr>\n",
       "      <th>25%</th>\n",
       "      <td>0.254700</td>\n",
       "    </tr>\n",
       "    <tr>\n",
       "      <th>50%</th>\n",
       "      <td>0.267100</td>\n",
       "    </tr>\n",
       "    <tr>\n",
       "      <th>75%</th>\n",
       "      <td>0.339750</td>\n",
       "    </tr>\n",
       "    <tr>\n",
       "      <th>max</th>\n",
       "      <td>0.913600</td>\n",
       "    </tr>\n",
       "  </tbody>\n",
       "</table>\n",
       "</div>"
      ],
      "text/plain": [
       "               0\n",
       "count  15.000000\n",
       "mean    0.332713\n",
       "std     0.169454\n",
       "min     0.241400\n",
       "25%     0.254700\n",
       "50%     0.267100\n",
       "75%     0.339750\n",
       "max     0.913600"
      ]
     },
     "execution_count": 3,
     "metadata": {},
     "output_type": "execute_result"
    }
   ],
   "source": [
    "Q1c.describe()"
   ]
  },
  {
   "cell_type": "code",
   "execution_count": 4,
   "id": "3c53bbc3",
   "metadata": {},
   "outputs": [
    {
     "data": {
      "text/plain": [
       "0.028714661238095233"
      ]
     },
     "execution_count": 4,
     "metadata": {},
     "output_type": "execute_result"
    }
   ],
   "source": [
    "Q1c[0].var()"
   ]
  },
  {
   "cell_type": "code",
   "execution_count": 5,
   "id": "583cc26c",
   "metadata": {},
   "outputs": [
    {
     "data": {
      "text/plain": [
       "{'whiskers': [<matplotlib.lines.Line2D at 0x269ba172410>,\n",
       "  <matplotlib.lines.Line2D at 0x269ba2bb590>],\n",
       " 'caps': [<matplotlib.lines.Line2D at 0x269ba2c40d0>,\n",
       "  <matplotlib.lines.Line2D at 0x269ba2c4cd0>],\n",
       " 'boxes': [<matplotlib.lines.Line2D at 0x269ba2540d0>],\n",
       " 'medians': [<matplotlib.lines.Line2D at 0x269ba2c5810>],\n",
       " 'fliers': [<matplotlib.lines.Line2D at 0x269ba2bb4d0>],\n",
       " 'means': []}"
      ]
     },
     "execution_count": 5,
     "metadata": {},
     "output_type": "execute_result"
    },
    {
     "data": {
      "image/png": "[encoded data removed]",
      "text/plain": [
       "<Figure size 640x480 with 1 Axes>"
      ]
     },
     "metadata": {},
     "output_type": "display_data"
    }
   ],
   "source": [
    "plt.boxplot(Q1c[0]) #only 1st clmn is plotted"
   ]
  },
  {
   "cell_type": "code",
   "execution_count": null,
   "id": "3c71eeba",
   "metadata": {},
   "outputs": [],
   "source": []
  },
  {
   "cell_type": "code",
   "execution_count": 6,
   "id": "8dcc12c0",
   "metadata": {},
   "outputs": [],
   "source": [
    "#Q5"
   ]
  },
  {
   "cell_type": "code",
   "execution_count": 7,
   "id": "4d663d82",
   "metadata": {},
   "outputs": [],
   "source": [
    "oo=(2000*2000)*.1\n",
    "tt=1000*1000*.1\n",
    "tth=0*.2\n",
    "ff=1000*1000*.2\n",
    "ffi=2000*2000*.3\n",
    "ss=3000*3000*.1"
   ]
  },
  {
   "cell_type": "code",
   "execution_count": 8,
   "id": "ee74549d",
   "metadata": {},
   "outputs": [],
   "source": [
    "o=-2000*.1\n",
    "t=-1000*.1\n",
    "th=0*0.2\n",
    "f=1000*.2\n",
    "fi=2000*.3\n",
    "s=3000*.1"
   ]
  },
  {
   "cell_type": "code",
   "execution_count": 9,
   "id": "f7904c56",
   "metadata": {},
   "outputs": [
    {
     "name": "stdout",
     "output_type": "stream",
     "text": [
      "2160000.0\n"
     ]
    }
   ],
   "source": [
    "print((oo+tt+tth+ff+ffi+ss)-((o+t+th+f+fi+s)**2))"
   ]
  },
  {
   "cell_type": "code",
   "execution_count": 10,
   "id": "2463208b",
   "metadata": {},
   "outputs": [
    {
     "name": "stderr",
     "output_type": "stream",
     "text": [
      "C:\\Users\\pirfa\\AppData\\Local\\Temp\\ipykernel_21328\\863413376.py:1: DeprecationWarning: scipy.sqrt is deprecated and will be removed in SciPy 2.0.0, use numpy.lib.scimath.sqrt instead\n",
      "  sc.sqrt(2160000)\n"
     ]
    },
    {
     "data": {
      "text/plain": [
       "1469.6938456699068"
      ]
     },
     "execution_count": 10,
     "metadata": {},
     "output_type": "execute_result"
    }
   ],
   "source": [
    "sc.sqrt(2160000)"
   ]
  },
  {
   "cell_type": "code",
   "execution_count": 11,
   "id": "7f3876e6",
   "metadata": {},
   "outputs": [],
   "source": [
    "                                   # Method-2"
   ]
  },
  {
   "cell_type": "code",
   "execution_count": 12,
   "id": "af672665",
   "metadata": {},
   "outputs": [
    {
     "name": "stdout",
     "output_type": "stream",
     "text": [
      "2800000.0\n",
      "640000.0\n",
      "SD =  2160000.0\n",
      "var =  1469.6938456699068\n"
     ]
    }
   ],
   "source": [
    "# Create two lists\n",
    "list1 = [-2000,-1000,0,1000,2000,3000]\n",
    "list2 = [.1,.1,.2,.2,.3,.1]\n",
    "\n",
    "ft=np.multiply(list1,list2)\n",
    "\n",
    "f=(np.multiply(list1,list1)*list2)\n",
    "a=0\n",
    "for i in f:\n",
    "    a += i\n",
    "print(a)\n",
    "\n",
    "b=0\n",
    "for i in ft:\n",
    "    b+=i\n",
    "ba=b**2\n",
    "print(ba)\n",
    "\n",
    "\n",
    "print('SD = ',a-ba)\n",
    "print('var = ',np.sqrt(a-ba))"
   ]
  },
  {
   "cell_type": "code",
   "execution_count": null,
   "id": "bcba79d8",
   "metadata": {},
   "outputs": [],
   "source": []
  },
  {
   "cell_type": "code",
   "execution_count": null,
   "id": "92494846",
   "metadata": {},
   "outputs": [],
   "source": []
  },
  {
   "cell_type": "code",
   "execution_count": 13,
   "id": "d07ac31d",
   "metadata": {},
   "outputs": [],
   "source": [
    "#Q1"
   ]
  },
  {
   "cell_type": "code",
   "execution_count": 14,
   "id": "d0f6b297",
   "metadata": {},
   "outputs": [
    {
     "name": "stdout",
     "output_type": "stream",
     "text": [
      "Probability = 0.26598552904870054\n"
     ]
    }
   ],
   "source": [
    "#Given sample mean = 50 i.e 1hr-10min,  Population mean = 45,   SD = 8\n",
    "print('Probability =',1-sc.stats.norm.cdf(50,45,8))         #1- = as we are finding H0/negative\n",
    "#it gives probability for more time taken"
   ]
  },
  {
   "cell_type": "code",
   "execution_count": null,
   "id": "214999bc",
   "metadata": {},
   "outputs": [],
   "source": []
  },
  {
   "cell_type": "code",
   "execution_count": 15,
   "id": "364c064e",
   "metadata": {},
   "outputs": [],
   "source": [
    "#Q2"
   ]
  },
  {
   "cell_type": "code",
   "execution_count": 16,
   "id": "cff95cb4",
   "metadata": {},
   "outputs": [
    {
     "name": "stdout",
     "output_type": "stream",
     "text": [
      "Pobability age is > 44 = 0.15865525393145707\n",
      "Probability age is between 38 to 44 = 0.3413447460685429\n"
     ]
    }
   ],
   "source": [
    "# 44 = sample mean,  38 = Population mean,   6 = SD\n",
    "# Employees older than 44 yrs of age\n",
    "print('Pobability age is > 44 =',1-sc.stats.norm.cdf(44,38,6))               #Its H0 (without 1- it gives age less than 44)\n",
    "\n",
    "\n",
    "# Employees between 38 to 44 yrs of age\n",
    "print('Probability age is between 38 to 44 =',sc.stats.norm.cdf(44,38,6)-sc.stats.norm.cdf(38,38,6))\n",
    "\n",
    "#when two values are given then no need of 1- at 2nd    i.e range"
   ]
  },
  {
   "cell_type": "code",
   "execution_count": 17,
   "id": "c6f12f0b",
   "metadata": {},
   "outputs": [
    {
     "data": {
      "text/plain": [
       "36.484487890347154"
      ]
     },
     "execution_count": 17,
     "metadata": {},
     "output_type": "execute_result"
    }
   ],
   "source": [
    "# Attracting under 30yrs employees from 400 employees attending training program \n",
    "400*sc.stats.norm.cdf(30,38,6)"
   ]
  },
  {
   "cell_type": "code",
   "execution_count": null,
   "id": "fe5cd9b6",
   "metadata": {},
   "outputs": [],
   "source": []
  },
  {
   "cell_type": "code",
   "execution_count": null,
   "id": "08054668",
   "metadata": {},
   "outputs": [],
   "source": []
  },
  {
   "cell_type": "code",
   "execution_count": 18,
   "id": "5c32c364",
   "metadata": {},
   "outputs": [],
   "source": [
    "#Q4"
   ]
  },
  {
   "cell_type": "code",
   "execution_count": 19,
   "id": "51b6082a",
   "metadata": {},
   "outputs": [
    {
     "data": {
      "text/plain": [
       "(48.48341392902199, 151.516586070978)"
      ]
     },
     "execution_count": 19,
     "metadata": {},
     "output_type": "execute_result"
    }
   ],
   "source": [
    "#when mean,sd is given along with percentage               Refer Q22,Q23 from basic stats 1\n",
    "# 100=population mean,  20=SD,   0.99=Probability@Smean    it gives upper & lower values\n",
    "sc.stats.norm.interval(0.99,100,20)                        #Used interval because in question there was between"
   ]
  },
  {
   "cell_type": "code",
   "execution_count": null,
   "id": "6e274486",
   "metadata": {},
   "outputs": [],
   "source": []
  },
  {
   "cell_type": "code",
   "execution_count": 20,
   "id": "9dab905c",
   "metadata": {},
   "outputs": [],
   "source": [
    "#Q5"
   ]
  },
  {
   "cell_type": "code",
   "execution_count": 21,
   "id": "fe0e029f",
   "metadata": {},
   "outputs": [
    {
     "name": "stdout",
     "output_type": "stream",
     "text": [
      "P_Mean Profit = Rs 540 Million\n",
      "Standard Deviation = Rs 225.0 Million\n",
      "Range is Rs (99.00810347848784, 980.9918965215122) in Millions\n"
     ]
    }
   ],
   "source": [
    "# Mean profits from two different divisions of a company = Mean = Mean1 + Mean2\n",
    "P_Mean = 5+7\n",
    "print('P_Mean Profit = Rs', P_Mean*45,'Million')\n",
    "\n",
    "# Variance profits from two different divisions of a company = SD = SD1 + SD2\n",
    "SD = np.sqrt((3**2)+(4**2))\n",
    "print('Standard Deviation = Rs', SD*45, 'Million')\n",
    "\n",
    "# A. Specify a Rupee range (centered on the mean) such that it contains 95% probability for the annual profit of the company.\n",
    "#when mean,sd is given along with percentage          Referr above question\n",
    "print('Range is Rs',(sc.stats.norm.interval(0.95,540,225)),'in Millions')        #inteval as range is given in question\n",
    "#0.95 = percentage@Smean    540=population mean      225=SD"
   ]
  },
  {
   "cell_type": "code",
   "execution_count": 22,
   "id": "7ea5e076",
   "metadata": {},
   "outputs": [
    {
     "name": "stdout",
     "output_type": "stream",
     "text": [
      "5th percentile of profit (in Million Rupees) is 169.90793393591878\n"
     ]
    }
   ],
   "source": [
    "# B. Specify the 5th percentile of profit (in Rupees) for the company\n",
    "# To compute 5th Percentile, we remove 95% from total mean using formula X=μ - Zσ; μ=P_mean, Z=z-value of percentage,  σ = SD\n",
    "# Z for 95% = sc.stats.norm.ppf(.95) .95=95%,  i.e 1.6448536269514722\n",
    "print('5th percentile of profit (in Million Rupees) is',540-1.6448536269514722*225)"
   ]
  },
  {
   "cell_type": "code",
   "execution_count": 23,
   "id": "4ce1eb6d",
   "metadata": {},
   "outputs": [
    {
     "name": "stdout",
     "output_type": "stream",
     "text": [
      "Probability of Division 1 making a loss 0.0477903522728147\n",
      "Probability of Division 2 making a loss 0.040059156863817086\n"
     ]
    }
   ],
   "source": [
    "# C. Which of the two divisions has a larger probability of making a loss in a given year?\n",
    "# Probability of Division 1 making a loss P(X<0)\n",
    "print('Probability of Division 1 making a loss',sc.stats.norm.cdf(0,5,3))   # 0 = sample mean 5=population mean, 3 = SD\n",
    "\n",
    "# Probability of Division 2 making a loss P(X<0)\n",
    "print('Probability of Division 2 making a loss',sc.stats.norm.cdf(0,7,4))  # 0 = sample mean 7=population mean, 4 = SD"
   ]
  },
  {
   "cell_type": "code",
   "execution_count": null,
   "id": "1a37fe08",
   "metadata": {},
   "outputs": [],
   "source": []
  },
  {
   "cell_type": "code",
   "execution_count": null,
   "id": "28a420ca",
   "metadata": {},
   "outputs": [],
   "source": []
  },
  {
   "cell_type": "code",
   "execution_count": 24,
   "id": "8c38b045",
   "metadata": {},
   "outputs": [],
   "source": [
    "#Q3"
   ]
  },
  {
   "cell_type": "code",
   "execution_count": 25,
   "id": "d8e7443e",
   "metadata": {},
   "outputs": [],
   "source": [
    "#In question population SD given i.e 40    sample SD=population SD/sqrt(n)   n=100\n",
    "#1-(sc.stats.norm.cdf(55,50,4)-sc.stats.norm.cdf(45,50,4))     #gives not lies between 55 and 45\n",
    "#when two values are given then no need of 1- at 2nd    i.e range"
   ]
  },
  {
   "cell_type": "code",
   "execution_count": 26,
   "id": "5e2ef563",
   "metadata": {},
   "outputs": [
    {
     "name": "stdout",
     "output_type": "stream",
     "text": [
      "The probability of an investigation is approximately 0.2112995473337107\n"
     ]
    }
   ],
   "source": [
    "# Method 2\n",
    "# Population parameters\n",
    "P_mean = 50\n",
    "std_dev = 40\n",
    "sample_size = 100\n",
    "\n",
    "# Calculate the z-scores for $45 and $55\n",
    "z1 = (45 - P_mean) / (std_dev/np.sqrt(sample_size))\n",
    "z2 = (55 - P_mean) / (std_dev/np.sqrt(sample_size))\n",
    "\n",
    "# Find the cumulative probability for z1 and z2\n",
    "prob_outside_range = sc.stats.norm.cdf(z1) + (1 - sc.stats.norm.cdf(z2))\n",
    "\n",
    "# Print the result\n",
    "print(f\"The probability of an investigation is approximately {prob_outside_range}\")"
   ]
  },
  {
   "cell_type": "code",
   "execution_count": null,
   "id": "1c1ed5d3",
   "metadata": {},
   "outputs": [],
   "source": []
  },
  {
   "cell_type": "code",
   "execution_count": 27,
   "id": "73c3f7f6",
   "metadata": {},
   "outputs": [],
   "source": [
    "#Q4                       Doubt"
   ]
  },
  {
   "cell_type": "code",
   "execution_count": 34,
   "id": "189e5d9d",
   "metadata": {},
   "outputs": [],
   "source": [
    "# formula to find sample size n = (z * sigma / (mu - threshold))^2\n"
   ]
  },
  {
   "cell_type": "code",
   "execution_count": 41,
   "id": "36ea70dc",
   "metadata": {},
   "outputs": [
    {
     "data": {
      "text/plain": [
       "245.85336452442397"
      ]
     },
     "execution_count": 41,
     "metadata": {},
     "output_type": "execute_result"
    }
   ],
   "source": [
    "n=(1.959963984540054*40/(50-45))**2\n",
    "n"
   ]
  },
  {
   "cell_type": "code",
   "execution_count": 52,
   "id": "b1816f77",
   "metadata": {},
   "outputs": [
    {
     "data": {
      "text/plain": [
       "1.959963984540054"
      ]
     },
     "execution_count": 52,
     "metadata": {},
     "output_type": "execute_result"
    }
   ],
   "source": [
    "# z value at 95%\n",
    "sc.stats.norm.ppf(0.975)"
   ]
  },
  {
   "cell_type": "code",
   "execution_count": null,
   "id": "17e2d449",
   "metadata": {},
   "outputs": [],
   "source": []
  },
  {
   "cell_type": "code",
   "execution_count": null,
   "id": "4c350308",
   "metadata": {},
   "outputs": [],
   "source": []
  },
  {
   "cell_type": "code",
   "execution_count": null,
   "id": "ebc3b4ad",
   "metadata": {},
   "outputs": [],
   "source": []
  }
 ],
 "metadata": {
  "kernelspec": {
   "display_name": "Python 3 (ipykernel)",
   "language": "python",
   "name": "python3"
  },
  "language_info": {
   "codemirror_mode": {
    "name": "ipython",
    "version": 3
   },
   "file_extension": ".py",
   "mimetype": "text/x-python",
   "name": "python",
   "nbconvert_exporter": "python",
   "pygments_lexer": "ipython3",
   "version": "3.11.5"
  }
 },
 "nbformat": 4,
 "nbformat_minor": 5
}
