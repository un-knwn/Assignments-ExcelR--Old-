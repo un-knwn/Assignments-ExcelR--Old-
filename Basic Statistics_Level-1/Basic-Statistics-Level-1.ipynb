{
 "cells": [
  {
   "cell_type": "code",
   "execution_count": 1,
   "id": "8d37481e",
   "metadata": {},
   "outputs": [],
   "source": [
    "import pandas as pd                        #importing pandas \n",
    "import numpy as np                         #importing numpy\n",
    "import scipy as sc                         #importing stats from scipy\n",
    "import matplotlib.pyplot as plt            #For plotting - Q21"
   ]
  },
  {
   "cell_type": "code",
   "execution_count": null,
   "id": "cecda173",
   "metadata": {},
   "outputs": [],
   "source": []
  },
  {
   "cell_type": "code",
   "execution_count": 2,
   "id": "9360bc52",
   "metadata": {},
   "outputs": [
    {
     "name": "stdout",
     "output_type": "stream",
     "text": [
      "The probability of getting two heads and one tail in three coin tosses is 0.37615\n"
     ]
    }
   ],
   "source": [
    "import random\n",
    "\n",
    "def three_coin_toss():\n",
    "    outcomes = [\"H\", \"T\"]\n",
    "    tosses = []\n",
    "    for i in range(3):\n",
    "        tosses.append(random.choice(outcomes))\n",
    "    return tosses\n",
    "\n",
    "def two_heads_one_tail(tosses):\n",
    "    \n",
    "    heads = 0\n",
    "    tails = 0\n",
    "    for toss in tosses:\n",
    "        if toss == \"H\":\n",
    "            heads += 1\n",
    "    else:\n",
    "        tails += 1\n",
    "    return heads == 2 and tails == 1\n",
    "\n",
    "num_trials = 100000\n",
    "num_successes = 0\n",
    "for i in range(num_trials):\n",
    "    tosses = three_coin_toss()\n",
    "    if two_heads_one_tail(tosses):\n",
    "        num_successes += 1\n",
    "\n",
    "probability = num_successes / num_trials\n",
    "print(\"The probability of getting two heads and one tail in three coin tosses is\", probability)\n"
   ]
  },
  {
   "cell_type": "code",
   "execution_count": null,
   "id": "80464298",
   "metadata": {},
   "outputs": [],
   "source": []
  },
  {
   "cell_type": "code",
   "execution_count": 3,
   "id": "f772016b",
   "metadata": {},
   "outputs": [
    {
     "data": {
      "text/html": [
       "<div>\n",
       "<style scoped>\n",
       "    .dataframe tbody tr th:only-of-type {\n",
       "        vertical-align: middle;\n",
       "    }\n",
       "\n",
       "    .dataframe tbody tr th {\n",
       "        vertical-align: top;\n",
       "    }\n",
       "\n",
       "    .dataframe thead th {\n",
       "        text-align: right;\n",
       "    }\n",
       "</style>\n",
       "<table border=\"1\" class=\"dataframe\">\n",
       "  <thead>\n",
       "    <tr style=\"text-align: right;\">\n",
       "      <th></th>\n",
       "      <th>Unnamed: 0</th>\n",
       "      <th>Points</th>\n",
       "      <th>Score</th>\n",
       "      <th>Weigh</th>\n",
       "    </tr>\n",
       "  </thead>\n",
       "  <tbody>\n",
       "    <tr>\n",
       "      <th>0</th>\n",
       "      <td>Mazda RX4</td>\n",
       "      <td>3.90</td>\n",
       "      <td>2.620</td>\n",
       "      <td>16.46</td>\n",
       "    </tr>\n",
       "    <tr>\n",
       "      <th>1</th>\n",
       "      <td>Mazda RX4 Wag</td>\n",
       "      <td>3.90</td>\n",
       "      <td>2.875</td>\n",
       "      <td>17.02</td>\n",
       "    </tr>\n",
       "    <tr>\n",
       "      <th>2</th>\n",
       "      <td>Datsun 710</td>\n",
       "      <td>3.85</td>\n",
       "      <td>2.320</td>\n",
       "      <td>18.61</td>\n",
       "    </tr>\n",
       "    <tr>\n",
       "      <th>3</th>\n",
       "      <td>Hornet 4 Drive</td>\n",
       "      <td>3.08</td>\n",
       "      <td>3.215</td>\n",
       "      <td>19.44</td>\n",
       "    </tr>\n",
       "    <tr>\n",
       "      <th>4</th>\n",
       "      <td>Hornet Sportabout</td>\n",
       "      <td>3.15</td>\n",
       "      <td>3.440</td>\n",
       "      <td>17.02</td>\n",
       "    </tr>\n",
       "  </tbody>\n",
       "</table>\n",
       "</div>"
      ],
      "text/plain": [
       "          Unnamed: 0  Points  Score  Weigh\n",
       "0          Mazda RX4    3.90  2.620  16.46\n",
       "1      Mazda RX4 Wag    3.90  2.875  17.02\n",
       "2         Datsun 710    3.85  2.320  18.61\n",
       "3     Hornet 4 Drive    3.08  3.215  19.44\n",
       "4  Hornet Sportabout    3.15  3.440  17.02"
      ]
     },
     "execution_count": 3,
     "metadata": {},
     "output_type": "execute_result"
    }
   ],
   "source": [
    "Q7=pd.read_csv(\"Q7.csv\")                  #defining=Q7 in which Q7.csv data stores,reading Q7.csv with pandas\n",
    "Q7.head()                                 #seeing Heading of Q7"
   ]
  },
  {
   "cell_type": "code",
   "execution_count": 4,
   "id": "d43d4be3",
   "metadata": {},
   "outputs": [
    {
     "data": {
      "text/html": [
       "<div>\n",
       "<style scoped>\n",
       "    .dataframe tbody tr th:only-of-type {\n",
       "        vertical-align: middle;\n",
       "    }\n",
       "\n",
       "    .dataframe tbody tr th {\n",
       "        vertical-align: top;\n",
       "    }\n",
       "\n",
       "    .dataframe thead th {\n",
       "        text-align: right;\n",
       "    }\n",
       "</style>\n",
       "<table border=\"1\" class=\"dataframe\">\n",
       "  <thead>\n",
       "    <tr style=\"text-align: right;\">\n",
       "      <th></th>\n",
       "      <th>Points</th>\n",
       "      <th>Score</th>\n",
       "      <th>Weigh</th>\n",
       "    </tr>\n",
       "  </thead>\n",
       "  <tbody>\n",
       "    <tr>\n",
       "      <th>count</th>\n",
       "      <td>32.000000</td>\n",
       "      <td>32.000000</td>\n",
       "      <td>32.000000</td>\n",
       "    </tr>\n",
       "    <tr>\n",
       "      <th>mean</th>\n",
       "      <td>3.596563</td>\n",
       "      <td>3.217250</td>\n",
       "      <td>17.848750</td>\n",
       "    </tr>\n",
       "    <tr>\n",
       "      <th>std</th>\n",
       "      <td>0.534679</td>\n",
       "      <td>0.978457</td>\n",
       "      <td>1.786943</td>\n",
       "    </tr>\n",
       "    <tr>\n",
       "      <th>min</th>\n",
       "      <td>2.760000</td>\n",
       "      <td>1.513000</td>\n",
       "      <td>14.500000</td>\n",
       "    </tr>\n",
       "    <tr>\n",
       "      <th>25%</th>\n",
       "      <td>3.080000</td>\n",
       "      <td>2.581250</td>\n",
       "      <td>16.892500</td>\n",
       "    </tr>\n",
       "    <tr>\n",
       "      <th>50%</th>\n",
       "      <td>3.695000</td>\n",
       "      <td>3.325000</td>\n",
       "      <td>17.710000</td>\n",
       "    </tr>\n",
       "    <tr>\n",
       "      <th>75%</th>\n",
       "      <td>3.920000</td>\n",
       "      <td>3.610000</td>\n",
       "      <td>18.900000</td>\n",
       "    </tr>\n",
       "    <tr>\n",
       "      <th>max</th>\n",
       "      <td>4.930000</td>\n",
       "      <td>5.424000</td>\n",
       "      <td>22.900000</td>\n",
       "    </tr>\n",
       "  </tbody>\n",
       "</table>\n",
       "</div>"
      ],
      "text/plain": [
       "          Points      Score      Weigh\n",
       "count  32.000000  32.000000  32.000000\n",
       "mean    3.596563   3.217250  17.848750\n",
       "std     0.534679   0.978457   1.786943\n",
       "min     2.760000   1.513000  14.500000\n",
       "25%     3.080000   2.581250  16.892500\n",
       "50%     3.695000   3.325000  17.710000\n",
       "75%     3.920000   3.610000  18.900000\n",
       "max     4.930000   5.424000  22.900000"
      ]
     },
     "execution_count": 4,
     "metadata": {},
     "output_type": "execute_result"
    }
   ],
   "source": [
    "Q7.describe()                              #description of Q7 "
   ]
  },
  {
   "cell_type": "code",
   "execution_count": 5,
   "id": "a8e010e1",
   "metadata": {},
   "outputs": [
    {
     "name": "stdout",
     "output_type": "stream",
     "text": [
      "0    3.07\n",
      "1    3.92\n",
      "Name: Points, dtype: float64\n",
      "0    3.44\n",
      "Name: Score, dtype: float64\n",
      "0    17.02\n",
      "1    18.90\n",
      "Name: Weigh, dtype: float64\n"
     ]
    }
   ],
   "source": [
    "print(Q7['Points'].mode())                 #Finding mode of column names\n",
    "print(Q7['Score'].mode())\n",
    "print(Q7['Weigh'].mode())"
   ]
  },
  {
   "cell_type": "code",
   "execution_count": 6,
   "id": "49e6a775",
   "metadata": {},
   "outputs": [
    {
     "name": "stdout",
     "output_type": "stream",
     "text": [
      "0.28588135080645166\n",
      "0.9573789677419356\n",
      "3.193166129032258\n"
     ]
    }
   ],
   "source": [
    "print(Q7['Points'].var())                  #Finding variance of clmns\n",
    "print(Q7['Score'].var())\n",
    "print(Q7['Weigh'].var())"
   ]
  },
  {
   "cell_type": "code",
   "execution_count": 7,
   "id": "25584975",
   "metadata": {},
   "outputs": [
    {
     "name": "stdout",
     "output_type": "stream",
     "text": [
      "2.17\n",
      "3.9110000000000005\n",
      "8.399999999999999\n"
     ]
    }
   ],
   "source": [
    "print(Q7['Points'].max() - Q7['Points'].min())               #Finding Range by using normal formula i.e max-min\n",
    "print(Q7['Score'].max() - Q7['Score'].min())\n",
    "print(Q7['Weigh'].max() - Q7['Weigh'].min())"
   ]
  },
  {
   "cell_type": "code",
   "execution_count": null,
   "id": "4b309930",
   "metadata": {},
   "outputs": [],
   "source": []
  },
  {
   "cell_type": "code",
   "execution_count": null,
   "id": "07d722b9",
   "metadata": {},
   "outputs": [],
   "source": []
  },
  {
   "cell_type": "code",
   "execution_count": null,
   "id": "1094ea1e",
   "metadata": {},
   "outputs": [],
   "source": []
  },
  {
   "cell_type": "code",
   "execution_count": 8,
   "id": "3c26f701",
   "metadata": {},
   "outputs": [
    {
     "data": {
      "text/html": [
       "<div>\n",
       "<style scoped>\n",
       "    .dataframe tbody tr th:only-of-type {\n",
       "        vertical-align: middle;\n",
       "    }\n",
       "\n",
       "    .dataframe tbody tr th {\n",
       "        vertical-align: top;\n",
       "    }\n",
       "\n",
       "    .dataframe thead th {\n",
       "        text-align: right;\n",
       "    }\n",
       "</style>\n",
       "<table border=\"1\" class=\"dataframe\">\n",
       "  <thead>\n",
       "    <tr style=\"text-align: right;\">\n",
       "      <th></th>\n",
       "      <th>Index</th>\n",
       "      <th>speed</th>\n",
       "      <th>dist</th>\n",
       "    </tr>\n",
       "  </thead>\n",
       "  <tbody>\n",
       "    <tr>\n",
       "      <th>0</th>\n",
       "      <td>1</td>\n",
       "      <td>4</td>\n",
       "      <td>2</td>\n",
       "    </tr>\n",
       "    <tr>\n",
       "      <th>1</th>\n",
       "      <td>2</td>\n",
       "      <td>4</td>\n",
       "      <td>10</td>\n",
       "    </tr>\n",
       "    <tr>\n",
       "      <th>2</th>\n",
       "      <td>3</td>\n",
       "      <td>7</td>\n",
       "      <td>4</td>\n",
       "    </tr>\n",
       "    <tr>\n",
       "      <th>3</th>\n",
       "      <td>4</td>\n",
       "      <td>7</td>\n",
       "      <td>22</td>\n",
       "    </tr>\n",
       "    <tr>\n",
       "      <th>4</th>\n",
       "      <td>5</td>\n",
       "      <td>8</td>\n",
       "      <td>16</td>\n",
       "    </tr>\n",
       "  </tbody>\n",
       "</table>\n",
       "</div>"
      ],
      "text/plain": [
       "   Index  speed  dist\n",
       "0      1      4     2\n",
       "1      2      4    10\n",
       "2      3      7     4\n",
       "3      4      7    22\n",
       "4      5      8    16"
      ]
     },
     "execution_count": 8,
     "metadata": {},
     "output_type": "execute_result"
    }
   ],
   "source": [
    "Q9a=pd.read_csv(\"Q9_a.csv\")  #defining=Q9a in which Q9_a.csv data stores,reading Q9_a.csv with pandas\n",
    "Q9a.head()                   #seeing Heading of Q9a"
   ]
  },
  {
   "cell_type": "code",
   "execution_count": 9,
   "id": "c2965d37",
   "metadata": {},
   "outputs": [
    {
     "name": "stdout",
     "output_type": "stream",
     "text": [
      "-0.11395477012828319\n",
      "0.7824835173114966\n"
     ]
    }
   ],
   "source": [
    "print(sc.stats.skew(Q9a['speed']))    #Finding skewness of clmns using scipy stats i.e sc\n",
    "print(sc.stats.skew(Q9a['dist']))"
   ]
  },
  {
   "cell_type": "code",
   "execution_count": 10,
   "id": "9feae90a",
   "metadata": {},
   "outputs": [
    {
     "name": "stdout",
     "output_type": "stream",
     "text": [
      "-0.5771474239437371\n",
      "0.24801865717051808\n"
     ]
    }
   ],
   "source": [
    "print(sc.stats.kurtosis(Q9a['speed'])) #Finding Kurtosis of clmns using scipy stats i.e sc\n",
    "print(sc.stats.kurtosis(Q9a['dist']))"
   ]
  },
  {
   "cell_type": "code",
   "execution_count": 11,
   "id": "9af0ff4d",
   "metadata": {},
   "outputs": [
    {
     "data": {
      "text/plain": [
       "<Axes: ylabel='Density'>"
      ]
     },
     "execution_count": 11,
     "metadata": {},
     "output_type": "execute_result"
    },
    {
     "data": {
      "image/png": "[encoded data removed]",
      "text/plain": [
       "<Figure size 640x480 with 1 Axes>"
      ]
     },
     "metadata": {},
     "output_type": "display_data"
    }
   ],
   "source": [
    "Q9a['speed'].plot(kind='kde')           #Speed is left skewed (-ve)"
   ]
  },
  {
   "cell_type": "code",
   "execution_count": 12,
   "id": "2e7657e3",
   "metadata": {},
   "outputs": [
    {
     "data": {
      "text/plain": [
       "<Axes: ylabel='Density'>"
      ]
     },
     "execution_count": 12,
     "metadata": {},
     "output_type": "execute_result"
    },
    {
     "data": {
      "image/png": "[encoded data removed]",
      "text/plain": [
       "<Figure size 640x480 with 1 Axes>"
      ]
     },
     "metadata": {},
     "output_type": "display_data"
    }
   ],
   "source": [
    "Q9a['dist'].plot(kind='kde')           #dist is right skewed (+ve) "
   ]
  },
  {
   "cell_type": "code",
   "execution_count": null,
   "id": "5361d6df",
   "metadata": {},
   "outputs": [],
   "source": []
  },
  {
   "cell_type": "code",
   "execution_count": 13,
   "id": "b7db6341",
   "metadata": {},
   "outputs": [
    {
     "data": {
      "text/html": [
       "<div>\n",
       "<style scoped>\n",
       "    .dataframe tbody tr th:only-of-type {\n",
       "        vertical-align: middle;\n",
       "    }\n",
       "\n",
       "    .dataframe tbody tr th {\n",
       "        vertical-align: top;\n",
       "    }\n",
       "\n",
       "    .dataframe thead th {\n",
       "        text-align: right;\n",
       "    }\n",
       "</style>\n",
       "<table border=\"1\" class=\"dataframe\">\n",
       "  <thead>\n",
       "    <tr style=\"text-align: right;\">\n",
       "      <th></th>\n",
       "      <th>Unnamed: 0</th>\n",
       "      <th>SP</th>\n",
       "      <th>WT</th>\n",
       "    </tr>\n",
       "  </thead>\n",
       "  <tbody>\n",
       "    <tr>\n",
       "      <th>0</th>\n",
       "      <td>1</td>\n",
       "      <td>104.185353</td>\n",
       "      <td>28.762059</td>\n",
       "    </tr>\n",
       "    <tr>\n",
       "      <th>1</th>\n",
       "      <td>2</td>\n",
       "      <td>105.461264</td>\n",
       "      <td>30.466833</td>\n",
       "    </tr>\n",
       "    <tr>\n",
       "      <th>2</th>\n",
       "      <td>3</td>\n",
       "      <td>105.461264</td>\n",
       "      <td>30.193597</td>\n",
       "    </tr>\n",
       "    <tr>\n",
       "      <th>3</th>\n",
       "      <td>4</td>\n",
       "      <td>113.461264</td>\n",
       "      <td>30.632114</td>\n",
       "    </tr>\n",
       "    <tr>\n",
       "      <th>4</th>\n",
       "      <td>5</td>\n",
       "      <td>104.461264</td>\n",
       "      <td>29.889149</td>\n",
       "    </tr>\n",
       "  </tbody>\n",
       "</table>\n",
       "</div>"
      ],
      "text/plain": [
       "   Unnamed: 0          SP         WT\n",
       "0           1  104.185353  28.762059\n",
       "1           2  105.461264  30.466833\n",
       "2           3  105.461264  30.193597\n",
       "3           4  113.461264  30.632114\n",
       "4           5  104.461264  29.889149"
      ]
     },
     "execution_count": 13,
     "metadata": {},
     "output_type": "execute_result"
    }
   ],
   "source": [
    "Q9b=pd.read_csv(\"Q9_b.csv\")  #defining=Q9b in which Q9b.csv data stores,reading Q9_b.csv with pandas\n",
    "Q9b.head()                   #seeing Heading of Q9b"
   ]
  },
  {
   "cell_type": "code",
   "execution_count": 14,
   "id": "bb401c59",
   "metadata": {},
   "outputs": [
    {
     "name": "stdout",
     "output_type": "stream",
     "text": [
      "1.5814536794423764\n",
      "-0.6033099322115126\n"
     ]
    }
   ],
   "source": [
    "print(sc.stats.skew(Q9b['SP']))    #Finding skewness of clmns using scipy stats i.e sc\n",
    "print(sc.stats.skew(Q9b['WT']))"
   ]
  },
  {
   "cell_type": "code",
   "execution_count": 15,
   "id": "50d695aa",
   "metadata": {},
   "outputs": [
    {
     "name": "stdout",
     "output_type": "stream",
     "text": [
      "2.7235214865269244\n",
      "0.8194658792266849\n"
     ]
    }
   ],
   "source": [
    "print(sc.stats.kurtosis(Q9b['SP'])) #Finding Kurtosis of clmns using scipy stats i.e sc\n",
    "print(sc.stats.kurtosis(Q9b['WT']))"
   ]
  },
  {
   "cell_type": "code",
   "execution_count": 16,
   "id": "9826386a",
   "metadata": {},
   "outputs": [],
   "source": [
    "#sc.skew(Q9b['SP'].plot(kind='kde'))"
   ]
  },
  {
   "cell_type": "code",
   "execution_count": 17,
   "id": "f707cfc7",
   "metadata": {},
   "outputs": [
    {
     "data": {
      "text/plain": [
       "<Axes: ylabel='Density'>"
      ]
     },
     "execution_count": 17,
     "metadata": {},
     "output_type": "execute_result"
    },
    {
     "data": {
      "image/png": "[encoded data removed]",
      "text/plain": [
       "<Figure size 640x480 with 1 Axes>"
      ]
     },
     "metadata": {},
     "output_type": "display_data"
    }
   ],
   "source": [
    "Q9b['SP'].plot(kind='kde')           #dist is right skewed (+ve) "
   ]
  },
  {
   "cell_type": "code",
   "execution_count": 18,
   "id": "c5b036ea",
   "metadata": {},
   "outputs": [
    {
     "data": {
      "text/plain": [
       "<Axes: ylabel='Density'>"
      ]
     },
     "execution_count": 18,
     "metadata": {},
     "output_type": "execute_result"
    },
    {
     "data": {
      "image/png": "[encoded data removed]",
      "text/plain": [
       "<Figure size 640x480 with 1 Axes>"
      ]
     },
     "metadata": {},
     "output_type": "display_data"
    }
   ],
   "source": [
    "Q9b['WT'].plot(kind='kde')           #dist is left skewed (-ve) "
   ]
  },
  {
   "cell_type": "code",
   "execution_count": null,
   "id": "9164efe0",
   "metadata": {},
   "outputs": [],
   "source": []
  },
  {
   "cell_type": "code",
   "execution_count": null,
   "id": "423396e1",
   "metadata": {},
   "outputs": [],
   "source": []
  },
  {
   "cell_type": "code",
   "execution_count": 19,
   "id": "595190cb",
   "metadata": {},
   "outputs": [],
   "source": [
    "#Q11"
   ]
  },
  {
   "cell_type": "code",
   "execution_count": 20,
   "id": "5e3c0dc2",
   "metadata": {},
   "outputs": [
    {
     "data": {
      "text/plain": [
       "(198.738325292158, 201.261674707842)"
      ]
     },
     "execution_count": 20,
     "metadata": {},
     "output_type": "execute_result"
    }
   ],
   "source": [
    "# Avg. weight of Adult in Mexico with 94% CI\n",
    "sc.stats.norm.interval(0.94,200,30/(2000**.5))  #0.94=confidence level,200=sample mean,30=SD,2000=sample size, 0.5 default"
   ]
  },
  {
   "cell_type": "code",
   "execution_count": 21,
   "id": "41e30990",
   "metadata": {},
   "outputs": [
    {
     "data": {
      "text/plain": [
       "(198.43943840429978, 201.56056159570022)"
      ]
     },
     "execution_count": 21,
     "metadata": {},
     "output_type": "execute_result"
    }
   ],
   "source": [
    "# Avg. weight of Adult in Mexico with 98% CI\n",
    "sc.stats.norm.interval(0.98,200,30/(2000**.5))"
   ]
  },
  {
   "cell_type": "code",
   "execution_count": 22,
   "id": "cc3799df",
   "metadata": {},
   "outputs": [
    {
     "data": {
      "text/plain": [
       "(198.62230334813333, 201.37769665186667)"
      ]
     },
     "execution_count": 22,
     "metadata": {},
     "output_type": "execute_result"
    }
   ],
   "source": [
    "# Avg. weight of Adult in Mexico with 96% CI\n",
    "sc.stats.norm.interval(0.96,200,30/(2000**0.5))"
   ]
  },
  {
   "cell_type": "code",
   "execution_count": null,
   "id": "2fe8beda",
   "metadata": {},
   "outputs": [],
   "source": []
  },
  {
   "cell_type": "code",
   "execution_count": null,
   "id": "542bdbba",
   "metadata": {},
   "outputs": [],
   "source": []
  },
  {
   "cell_type": "code",
   "execution_count": 23,
   "id": "2ef55cf0",
   "metadata": {},
   "outputs": [],
   "source": [
    "#Q12"
   ]
  },
  {
   "cell_type": "code",
   "execution_count": 24,
   "id": "49d0daca",
   "metadata": {},
   "outputs": [],
   "source": [
    "L=(34,36,36,38,38,39,39,40,40,41,41,41,41,42,42,45,49,56)\n",
    "Ldf=pd.DataFrame(L)"
   ]
  },
  {
   "cell_type": "code",
   "execution_count": 25,
   "id": "09bb6fc0",
   "metadata": {},
   "outputs": [
    {
     "name": "stdout",
     "output_type": "stream",
     "text": [
      "               0\n",
      "count  18.000000\n",
      "mean   41.000000\n",
      "std     5.052664\n",
      "min    34.000000\n",
      "25%    38.250000\n",
      "50%    40.500000\n",
      "75%    41.750000\n",
      "max    56.000000\n",
      "\n",
      "0    25.529412\n",
      "dtype: float64\n"
     ]
    }
   ],
   "source": [
    "print(Ldf.describe())\n",
    "print()\n",
    "print(Ldf.var())"
   ]
  },
  {
   "cell_type": "code",
   "execution_count": 26,
   "id": "0b3c7950",
   "metadata": {},
   "outputs": [
    {
     "data": {
      "text/plain": [
       "<Axes: ylabel='Frequency'>"
      ]
     },
     "execution_count": 26,
     "metadata": {},
     "output_type": "execute_result"
    },
    {
     "data": {
      "image/png": "[encoded data removed]",
      "text/plain": [
       "<Figure size 900x500 with 1 Axes>"
      ]
     },
     "metadata": {},
     "output_type": "display_data"
    }
   ],
   "source": [
    "Ldf.plot(kind='hist',figsize=(9,5)) "
   ]
  },
  {
   "cell_type": "code",
   "execution_count": null,
   "id": "490cfd4c",
   "metadata": {},
   "outputs": [],
   "source": []
  },
  {
   "cell_type": "code",
   "execution_count": 27,
   "id": "eab54b3d",
   "metadata": {},
   "outputs": [],
   "source": [
    "#Q20"
   ]
  },
  {
   "cell_type": "code",
   "execution_count": 28,
   "id": "abdc3fde",
   "metadata": {},
   "outputs": [
    {
     "data": {
      "text/html": [
       "<div>\n",
       "<style scoped>\n",
       "    .dataframe tbody tr th:only-of-type {\n",
       "        vertical-align: middle;\n",
       "    }\n",
       "\n",
       "    .dataframe tbody tr th {\n",
       "        vertical-align: top;\n",
       "    }\n",
       "\n",
       "    .dataframe thead th {\n",
       "        text-align: right;\n",
       "    }\n",
       "</style>\n",
       "<table border=\"1\" class=\"dataframe\">\n",
       "  <thead>\n",
       "    <tr style=\"text-align: right;\">\n",
       "      <th></th>\n",
       "      <th>HP</th>\n",
       "      <th>MPG</th>\n",
       "      <th>VOL</th>\n",
       "      <th>SP</th>\n",
       "      <th>WT</th>\n",
       "    </tr>\n",
       "  </thead>\n",
       "  <tbody>\n",
       "    <tr>\n",
       "      <th>0</th>\n",
       "      <td>49</td>\n",
       "      <td>53.700681</td>\n",
       "      <td>89</td>\n",
       "      <td>104.185353</td>\n",
       "      <td>28.762059</td>\n",
       "    </tr>\n",
       "    <tr>\n",
       "      <th>1</th>\n",
       "      <td>55</td>\n",
       "      <td>50.013401</td>\n",
       "      <td>92</td>\n",
       "      <td>105.461264</td>\n",
       "      <td>30.466833</td>\n",
       "    </tr>\n",
       "    <tr>\n",
       "      <th>2</th>\n",
       "      <td>55</td>\n",
       "      <td>50.013401</td>\n",
       "      <td>92</td>\n",
       "      <td>105.461264</td>\n",
       "      <td>30.193597</td>\n",
       "    </tr>\n",
       "    <tr>\n",
       "      <th>3</th>\n",
       "      <td>70</td>\n",
       "      <td>45.696322</td>\n",
       "      <td>92</td>\n",
       "      <td>113.461264</td>\n",
       "      <td>30.632114</td>\n",
       "    </tr>\n",
       "    <tr>\n",
       "      <th>4</th>\n",
       "      <td>53</td>\n",
       "      <td>50.504232</td>\n",
       "      <td>92</td>\n",
       "      <td>104.461264</td>\n",
       "      <td>29.889149</td>\n",
       "    </tr>\n",
       "  </tbody>\n",
       "</table>\n",
       "</div>"
      ],
      "text/plain": [
       "   HP        MPG  VOL          SP         WT\n",
       "0  49  53.700681   89  104.185353  28.762059\n",
       "1  55  50.013401   92  105.461264  30.466833\n",
       "2  55  50.013401   92  105.461264  30.193597\n",
       "3  70  45.696322   92  113.461264  30.632114\n",
       "4  53  50.504232   92  104.461264  29.889149"
      ]
     },
     "execution_count": 28,
     "metadata": {},
     "output_type": "execute_result"
    }
   ],
   "source": [
    "Q20=pd.read_csv(\"Cars.csv\")\n",
    "Q20.head()"
   ]
  },
  {
   "cell_type": "code",
   "execution_count": 29,
   "id": "2320c761",
   "metadata": {},
   "outputs": [
    {
     "data": {
      "text/plain": [
       "0     53.700681\n",
       "1     50.013401\n",
       "2     50.013401\n",
       "3     45.696322\n",
       "4     50.504232\n",
       "        ...    \n",
       "76    36.900000\n",
       "77    19.197888\n",
       "78    34.000000\n",
       "79    19.833733\n",
       "80    12.101263\n",
       "Name: MPG, Length: 81, dtype: float64"
      ]
     },
     "execution_count": 29,
     "metadata": {},
     "output_type": "execute_result"
    }
   ],
   "source": [
    "MPG=Q20[\"MPG\"]\n",
    "MPG"
   ]
  },
  {
   "cell_type": "code",
   "execution_count": 30,
   "id": "7c7c7485",
   "metadata": {},
   "outputs": [
    {
     "data": {
      "text/plain": [
       "0.4074074074074074"
      ]
     },
     "execution_count": 30,
     "metadata": {},
     "output_type": "execute_result"
    }
   ],
   "source": [
    "# Formula = no.of time mpg>38 / no. of rows in MPG clmn\n",
    "Prob_GT38 = len(MPG[MPG > 38]) / len(MPG)\n",
    "Prob_GT38"
   ]
  },
  {
   "cell_type": "code",
   "execution_count": 31,
   "id": "7befa8dd",
   "metadata": {},
   "outputs": [
    {
     "data": {
      "text/plain": [
       "0.7530864197530864"
      ]
     },
     "execution_count": 31,
     "metadata": {},
     "output_type": "execute_result"
    }
   ],
   "source": [
    "# Formula = no.of time mpg<40 / no. of rows in MPG clmn\n",
    "Prob_LT40 = len(MPG[MPG < 40]) / len(MPG)\n",
    "Prob_LT40"
   ]
  },
  {
   "cell_type": "code",
   "execution_count": 32,
   "id": "6e64fe2a",
   "metadata": {},
   "outputs": [
    {
     "data": {
      "text/plain": [
       "0.8518518518518519"
      ]
     },
     "execution_count": 32,
     "metadata": {},
     "output_type": "execute_result"
    }
   ],
   "source": [
    "# Formula = no.of time mpg>20 & no.of time mpg<50 / no. of rows in MPG clmn\n",
    "Prob_GT20_LT50 = len(MPG[(MPG>20) & (MPG < 50)]) / len(MPG)\n",
    "Prob_GT20_LT50"
   ]
  },
  {
   "cell_type": "code",
   "execution_count": null,
   "id": "fae5650c",
   "metadata": {},
   "outputs": [],
   "source": []
  },
  {
   "cell_type": "code",
   "execution_count": 33,
   "id": "4943c223",
   "metadata": {},
   "outputs": [],
   "source": [
    "#Q21"
   ]
  },
  {
   "cell_type": "code",
   "execution_count": 34,
   "id": "e662edd6",
   "metadata": {},
   "outputs": [
    {
     "data": {
      "text/plain": [
       "{'whiskers': [<matplotlib.lines.Line2D at 0x1db468a88d0>,\n",
       "  <matplotlib.lines.Line2D at 0x1db468eb490>],\n",
       " 'caps': [<matplotlib.lines.Line2D at 0x1db468f4050>,\n",
       "  <matplotlib.lines.Line2D at 0x1db468f4b50>],\n",
       " 'boxes': [<matplotlib.lines.Line2D at 0x1db46695310>],\n",
       " 'medians': [<matplotlib.lines.Line2D at 0x1db468f5650>],\n",
       " 'fliers': [<matplotlib.lines.Line2D at 0x1db468eb390>],\n",
       " 'means': []}"
      ]
     },
     "execution_count": 34,
     "metadata": {},
     "output_type": "execute_result"
    },
    {
     "data": {
      "image/png": "[encoded data removed]",
      "text/plain": [
       "<Figure size 640x480 with 1 Axes>"
      ]
     },
     "metadata": {},
     "output_type": "display_data"
    }
   ],
   "source": [
    "plt.boxplot(MPG)                 #MPG from above question      Normal Dist"
   ]
  },
  {
   "cell_type": "code",
   "execution_count": 35,
   "id": "d27db33d",
   "metadata": {},
   "outputs": [
    {
     "data": {
      "text/html": [
       "<div>\n",
       "<style scoped>\n",
       "    .dataframe tbody tr th:only-of-type {\n",
       "        vertical-align: middle;\n",
       "    }\n",
       "\n",
       "    .dataframe tbody tr th {\n",
       "        vertical-align: top;\n",
       "    }\n",
       "\n",
       "    .dataframe thead th {\n",
       "        text-align: right;\n",
       "    }\n",
       "</style>\n",
       "<table border=\"1\" class=\"dataframe\">\n",
       "  <thead>\n",
       "    <tr style=\"text-align: right;\">\n",
       "      <th></th>\n",
       "      <th>Waist</th>\n",
       "      <th>AT</th>\n",
       "    </tr>\n",
       "  </thead>\n",
       "  <tbody>\n",
       "    <tr>\n",
       "      <th>0</th>\n",
       "      <td>74.75</td>\n",
       "      <td>25.72</td>\n",
       "    </tr>\n",
       "    <tr>\n",
       "      <th>1</th>\n",
       "      <td>72.60</td>\n",
       "      <td>25.89</td>\n",
       "    </tr>\n",
       "    <tr>\n",
       "      <th>2</th>\n",
       "      <td>81.80</td>\n",
       "      <td>42.60</td>\n",
       "    </tr>\n",
       "    <tr>\n",
       "      <th>3</th>\n",
       "      <td>83.95</td>\n",
       "      <td>42.80</td>\n",
       "    </tr>\n",
       "    <tr>\n",
       "      <th>4</th>\n",
       "      <td>74.65</td>\n",
       "      <td>29.84</td>\n",
       "    </tr>\n",
       "    <tr>\n",
       "      <th>...</th>\n",
       "      <td>...</td>\n",
       "      <td>...</td>\n",
       "    </tr>\n",
       "    <tr>\n",
       "      <th>104</th>\n",
       "      <td>100.10</td>\n",
       "      <td>124.00</td>\n",
       "    </tr>\n",
       "    <tr>\n",
       "      <th>105</th>\n",
       "      <td>93.30</td>\n",
       "      <td>62.20</td>\n",
       "    </tr>\n",
       "    <tr>\n",
       "      <th>106</th>\n",
       "      <td>101.80</td>\n",
       "      <td>133.00</td>\n",
       "    </tr>\n",
       "    <tr>\n",
       "      <th>107</th>\n",
       "      <td>107.90</td>\n",
       "      <td>208.00</td>\n",
       "    </tr>\n",
       "    <tr>\n",
       "      <th>108</th>\n",
       "      <td>108.50</td>\n",
       "      <td>208.00</td>\n",
       "    </tr>\n",
       "  </tbody>\n",
       "</table>\n",
       "<p>109 rows × 2 columns</p>\n",
       "</div>"
      ],
      "text/plain": [
       "      Waist      AT\n",
       "0     74.75   25.72\n",
       "1     72.60   25.89\n",
       "2     81.80   42.60\n",
       "3     83.95   42.80\n",
       "4     74.65   29.84\n",
       "..      ...     ...\n",
       "104  100.10  124.00\n",
       "105   93.30   62.20\n",
       "106  101.80  133.00\n",
       "107  107.90  208.00\n",
       "108  108.50  208.00\n",
       "\n",
       "[109 rows x 2 columns]"
      ]
     },
     "execution_count": 35,
     "metadata": {},
     "output_type": "execute_result"
    }
   ],
   "source": [
    "WC_AT=pd.read_csv(\"wc-at.csv\")\n",
    "WC_AT"
   ]
  },
  {
   "cell_type": "code",
   "execution_count": 36,
   "id": "78167a85",
   "metadata": {},
   "outputs": [
    {
     "data": {
      "text/plain": [
       "{'whiskers': [<matplotlib.lines.Line2D at 0x1db4694db90>,\n",
       "  <matplotlib.lines.Line2D at 0x1db4694e790>,\n",
       "  <matplotlib.lines.Line2D at 0x1db4695a990>,\n",
       "  <matplotlib.lines.Line2D at 0x1db4695b390>],\n",
       " 'caps': [<matplotlib.lines.Line2D at 0x1db4694f2d0>,\n",
       "  <matplotlib.lines.Line2D at 0x1db4694fdd0>,\n",
       "  <matplotlib.lines.Line2D at 0x1db4695bed0>,\n",
       "  <matplotlib.lines.Line2D at 0x1db46968a10>],\n",
       " 'boxes': [<matplotlib.lines.Line2D at 0x1db4694d210>,\n",
       "  <matplotlib.lines.Line2D at 0x1db46959e90>],\n",
       " 'medians': [<matplotlib.lines.Line2D at 0x1db46958990>,\n",
       "  <matplotlib.lines.Line2D at 0x1db469695d0>],\n",
       " 'fliers': [<matplotlib.lines.Line2D at 0x1db466265d0>,\n",
       "  <matplotlib.lines.Line2D at 0x1db46894d50>],\n",
       " 'means': []}"
      ]
     },
     "execution_count": 36,
     "metadata": {},
     "output_type": "execute_result"
    },
    {
     "data": {
      "image/png": "[encoded data removed]",
      "text/plain": [
       "<Figure size 640x480 with 1 Axes>"
      ]
     },
     "metadata": {},
     "output_type": "display_data"
    }
   ],
   "source": [
    "plt.boxplot(WC_AT)                       # Normal Dist"
   ]
  },
  {
   "cell_type": "code",
   "execution_count": null,
   "id": "ace90f12",
   "metadata": {},
   "outputs": [],
   "source": []
  },
  {
   "cell_type": "code",
   "execution_count": 37,
   "id": "c4633478",
   "metadata": {},
   "outputs": [],
   "source": [
    "#Q22"
   ]
  },
  {
   "cell_type": "code",
   "execution_count": 62,
   "id": "a270ca5b",
   "metadata": {},
   "outputs": [
    {
     "name": "stdout",
     "output_type": "stream",
     "text": [
      "Z score for 90% confidence interval: 1.6448536269514722\n",
      "Z score for 94% confidence interval: 1.8807936081512509\n",
      "Z score for 60% confidence interval: 0.8416212335729143\n"
     ]
    }
   ],
   "source": [
    "#Finding z score of given confidence interval percentage\n",
    "\n",
    "# when only Percentage is given use (1+percentage)/2 = (1+.90)/2      \n",
    "# further explanation at https://www.vedantu.com/question-answer/z-value-for-a-90-95-and-99-percent-confidence-class-11-maths-cbse-606c515d034c9021d4c5b4f0\n",
    "\n",
    "# Print the results\n",
    "print(\"Z score for 90% confidence interval:\", sc.stats.norm.ppf(0.95)) #It takes percentage,mean,SD      where def(mean=0 Sd=1)      \n",
    "print(\"Z score for 94% confidence interval:\", sc.stats.norm.ppf(0.97))\n",
    "print(\"Z score for 60% confidence interval:\", sc.stats.norm.ppf(0.8))\n"
   ]
  },
  {
   "cell_type": "code",
   "execution_count": 66,
   "id": "9fe6eec9",
   "metadata": {},
   "outputs": [
    {
     "data": {
      "text/plain": [
       "1.6448536269514722"
      ]
     },
     "execution_count": 66,
     "metadata": {},
     "output_type": "execute_result"
    }
   ],
   "source": [
    "sc.stats.norm.ppf(0.95,0,1)"
   ]
  },
  {
   "cell_type": "code",
   "execution_count": 39,
   "id": "36dad31a",
   "metadata": {},
   "outputs": [],
   "source": [
    "# Q23"
   ]
  },
  {
   "cell_type": "code",
   "execution_count": 12,
   "id": "40a2a2c0",
   "metadata": {},
   "outputs": [
    {
     "name": "stdout",
     "output_type": "stream",
     "text": [
      "T-score for 95% = 2.0638985616280205\n",
      "T-score for 96% = 2.1715446760080677\n",
      "T-score for 99% = 2.796939504772804\n"
     ]
    }
   ],
   "source": [
    "#Finding T score of given confidence interval percentage\n",
    "# when only Percentage is given use (1+percentage)/2 = (1+.95)/2       \n",
    "\n",
    "print('T-score for 95% =',sc.stats.t.ppf(0.975,24))     #24=df (It takes only t_val & df)      \n",
    "print('T-score for 96% =',sc.stats.t.ppf(0.98,24))\n",
    "print('T-score for 99% =',sc.stats.t.ppf(0.995,24))"
   ]
  },
  {
   "cell_type": "code",
   "execution_count": null,
   "id": "04bd9412",
   "metadata": {},
   "outputs": [],
   "source": [
    " "
   ]
  },
  {
   "cell_type": "code",
   "execution_count": 41,
   "id": "c3349533",
   "metadata": {},
   "outputs": [],
   "source": [
    "# Q24"
   ]
  },
  {
   "cell_type": "code",
   "execution_count": 67,
   "id": "be7e9801",
   "metadata": {},
   "outputs": [
    {
     "name": "stdout",
     "output_type": "stream",
     "text": [
      "-0.4714045207910317\n",
      "0.32167253567098364\n"
     ]
    }
   ],
   "source": [
    "# Claim by the government company\n",
    "mu = 270                                           #i.e population mean\n",
    "# Sample mean\n",
    "x_bar = 260\n",
    "# Sample standard deviation\n",
    "sd = 90\n",
    "# Sample size\n",
    "n = 18\n",
    "\n",
    "# Calculate the standard error of the mean\n",
    "se = sd / np.sqrt(n)                               #Or else direct t-test formla can be use i.e ((xbar-mu)/(sd/rt(n)))\n",
    "\n",
    "# Calculate the t-statistic\n",
    "\n",
    "t_test = (x_bar - mu) / se\n",
    "print(t_test)\n",
    "\n",
    "# Calculate the degrees of freedom\n",
    "df = n - 1\n",
    "\n",
    "# Calculate the probability of obtaining a t-statistic less than or equal to t_stat, assuming that the government company's claim is true\n",
    "# T-test is used to determine difference between the means of two groups\n",
    "p_value = sc.stats.t.cdf(t_test, df)                      #It takes only t_val & df)  \n",
    "   \n",
    "\n",
    "print(p_value)\n"
   ]
  },
  {
   "cell_type": "code",
   "execution_count": null,
   "id": "266ffe27",
   "metadata": {},
   "outputs": [],
   "source": []
  },
  {
   "cell_type": "code",
   "execution_count": null,
   "id": "9ef0b15d",
   "metadata": {},
   "outputs": [],
   "source": []
  },
  {
   "cell_type": "code",
   "execution_count": null,
   "id": "f7c37758",
   "metadata": {},
   "outputs": [],
   "source": []
  },
  {
   "cell_type": "code",
   "execution_count": null,
   "id": "a9695893",
   "metadata": {},
   "outputs": [],
   "source": []
  }
 ],
 "metadata": {
  "kernelspec": {
   "display_name": "Python 3 (ipykernel)",
   "language": "python",
   "name": "python3"
  },
  "language_info": {
   "codemirror_mode": {
    "name": "ipython",
    "version": 3
   },
   "file_extension": ".py",
   "mimetype": "text/x-python",
   "name": "python",
   "nbconvert_exporter": "python",
   "pygments_lexer": "ipython3",
   "version": "3.11.5"
  }
 },
 "nbformat": 4,
 "nbformat_minor": 5
}
